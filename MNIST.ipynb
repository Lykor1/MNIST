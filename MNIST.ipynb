{
  "nbformat": 4,
  "nbformat_minor": 0,
  "metadata": {
    "colab": {
      "provenance": [],
      "collapsed_sections": []
    },
    "kernelspec": {
      "name": "python3",
      "display_name": "Python 3"
    },
    "language_info": {
      "name": "python"
    },
    "accelerator": "GPU"
  },
  "cells": [
    {
      "cell_type": "code",
      "execution_count": 2,
      "metadata": {
        "id": "ab6rL5P8aSKR"
      },
      "outputs": [],
      "source": [
        "from tensorflow.keras.utils import to_categorical\n",
        "from tensorflow.keras.models import Sequential\n",
        "from tensorflow.keras.layers import Dense, Flatten, Dropout, Conv2D, MaxPooling2D\n",
        "from tensorflow.keras.datasets import mnist\n",
        "import numpy as np\n",
        "import matplotlib.pyplot as plt\n",
        "%matplotlib inline"
      ]
    },
    {
      "cell_type": "markdown",
      "source": [
        "Загрузка данных"
      ],
      "metadata": {
        "id": "qmvQQ1XBcDqc"
      }
    },
    {
      "cell_type": "code",
      "source": [
        "(x_train, y_train), (x_test, y_test) = mnist.load_data()"
      ],
      "metadata": {
        "colab": {
          "base_uri": "https://localhost:8080/"
        },
        "id": "phM_OZyAb9ex",
        "outputId": "18e5a357-424b-44ef-aff1-9e4a0fdb9d47"
      },
      "execution_count": 3,
      "outputs": [
        {
          "output_type": "stream",
          "name": "stdout",
          "text": [
            "Downloading data from https://storage.googleapis.com/tensorflow/tf-keras-datasets/mnist.npz\n",
            "11493376/11490434 [==============================] - 0s 0us/step\n",
            "11501568/11490434 [==============================] - 0s 0us/step\n"
          ]
        }
      ]
    },
    {
      "cell_type": "code",
      "source": [
        "print(x_train.shape)\n",
        "print(x_test.shape)"
      ],
      "metadata": {
        "colab": {
          "base_uri": "https://localhost:8080/"
        },
        "id": "AqT8u1Y5cFek",
        "outputId": "7945f06f-0829-42a3-caa4-86feaef6922a"
      },
      "execution_count": 4,
      "outputs": [
        {
          "output_type": "stream",
          "name": "stdout",
          "text": [
            "(60000, 28, 28)\n",
            "(10000, 28, 28)\n"
          ]
        }
      ]
    },
    {
      "cell_type": "code",
      "source": [
        "plt.imshow(x_train[0].squeeze())\n",
        "plt.show()"
      ],
      "metadata": {
        "colab": {
          "base_uri": "https://localhost:8080/",
          "height": 265
        },
        "id": "jCZIYzSAcmCD",
        "outputId": "de1b692a-b0e2-4b47-ae27-1f9b1beb8bb7"
      },
      "execution_count": 5,
      "outputs": [
        {
          "output_type": "display_data",
          "data": {
            "text/plain": [
              "<Figure size 432x288 with 1 Axes>"
            ],
            "image/png": "[encoded data removed]"
          },
          "metadata": {
            "needs_background": "light"
          }
        }
      ]
    },
    {
      "cell_type": "markdown",
      "source": [
        "Нормализация"
      ],
      "metadata": {
        "id": "ZJ7GVFUwcWvo"
      }
    },
    {
      "cell_type": "code",
      "source": [
        "x_train = x_train.reshape(x_train.shape[0], 28, 28, 1)\n",
        "x_test = x_test.reshape(x_test.shape[0], 28, 28, 1)\n",
        "\n",
        "x_train = x_train.astype('float32')\n",
        "x_test = x_test.astype('float32')\n",
        "x_train /= 255\n",
        "x_test /= 255\n",
        "\n",
        "y_train = to_categorical(y_train, 10)\n",
        "y_test = to_categorical(y_test, 10)"
      ],
      "metadata": {
        "id": "EL74EZ-McZ7R"
      },
      "execution_count": 6,
      "outputs": []
    },
    {
      "cell_type": "markdown",
      "source": [
        "Создание модели"
      ],
      "metadata": {
        "id": "1Q5qIL7Tcv55"
      }
    },
    {
      "cell_type": "code",
      "source": [
        "model = Sequential()\n",
        "model.add(Conv2D(75, (3,3), input_shape=(28, 28, 1), activation='relu'))\n",
        "model.add(MaxPooling2D(pool_size=(2,2)))\n",
        "model.add(Dropout(0.2))\n",
        "model.add(Conv2D(100, (3,3), activation='relu'))\n",
        "model.add(MaxPooling2D(pool_size=(2,2)))\n",
        "model.add(Dropout(0.2))\n",
        "model.add(Flatten())\n",
        "model.add(Dense(500, activation='relu'))\n",
        "model.add(Dropout(0.5))\n",
        "model.add(Dense(10, activation='softmax'))"
      ],
      "metadata": {
        "id": "rt-CVn6Pc1U_"
      },
      "execution_count": 7,
      "outputs": []
    },
    {
      "cell_type": "code",
      "source": [
        "model.compile(optimizer='Adam', loss='categorical_crossentropy', metrics=['accuracy'])"
      ],
      "metadata": {
        "id": "p-Gma7-5dhgk"
      },
      "execution_count": 8,
      "outputs": []
    },
    {
      "cell_type": "markdown",
      "source": [
        "Обучение"
      ],
      "metadata": {
        "id": "3YU1IEVUc1wH"
      }
    },
    {
      "cell_type": "code",
      "source": [
        "history = model.fit(x_train, y_train, epochs=10, batch_size=100, validation_split=0.2)"
      ],
      "metadata": {
        "colab": {
          "base_uri": "https://localhost:8080/"
        },
        "id": "6aVuBLkfc3XO",
        "outputId": "96555703-0c3c-4283-f7d1-7c7335660284"
      },
      "execution_count": 9,
      "outputs": [
        {
          "output_type": "stream",
          "name": "stdout",
          "text": [
            "Epoch 1/10\n",
            "480/480 [==============================] - 15s 7ms/step - loss: 0.2198 - accuracy: 0.9306 - val_loss: 0.0555 - val_accuracy: 0.9838\n",
            "Epoch 2/10\n",
            "480/480 [==============================] - 3s 7ms/step - loss: 0.0708 - accuracy: 0.9779 - val_loss: 0.0446 - val_accuracy: 0.9865\n",
            "Epoch 3/10\n",
            "480/480 [==============================] - 3s 7ms/step - loss: 0.0494 - accuracy: 0.9846 - val_loss: 0.0369 - val_accuracy: 0.9901\n",
            "Epoch 4/10\n",
            "480/480 [==============================] - 3s 7ms/step - loss: 0.0404 - accuracy: 0.9877 - val_loss: 0.0304 - val_accuracy: 0.9908\n",
            "Epoch 5/10\n",
            "480/480 [==============================] - 4s 8ms/step - loss: 0.0346 - accuracy: 0.9892 - val_loss: 0.0327 - val_accuracy: 0.9903\n",
            "Epoch 6/10\n",
            "480/480 [==============================] - 3s 7ms/step - loss: 0.0277 - accuracy: 0.9916 - val_loss: 0.0304 - val_accuracy: 0.9908\n",
            "Epoch 7/10\n",
            "480/480 [==============================] - 3s 7ms/step - loss: 0.0261 - accuracy: 0.9915 - val_loss: 0.0319 - val_accuracy: 0.9908\n",
            "Epoch 8/10\n",
            "480/480 [==============================] - 3s 7ms/step - loss: 0.0218 - accuracy: 0.9933 - val_loss: 0.0316 - val_accuracy: 0.9926\n",
            "Epoch 9/10\n",
            "480/480 [==============================] - 3s 7ms/step - loss: 0.0202 - accuracy: 0.9931 - val_loss: 0.0322 - val_accuracy: 0.9927\n",
            "Epoch 10/10\n",
            "480/480 [==============================] - 3s 7ms/step - loss: 0.0185 - accuracy: 0.9937 - val_loss: 0.0289 - val_accuracy: 0.9926\n"
          ]
        }
      ]
    },
    {
      "cell_type": "markdown",
      "source": [
        "Проверка"
      ],
      "metadata": {
        "id": "AKqS1mJWc3zV"
      }
    },
    {
      "cell_type": "code",
      "execution_count": 10,
      "metadata": {
        "colab": {
          "base_uri": "https://localhost:8080/",
          "height": 265
        },
        "id": "ief9S1xKFBAg",
        "outputId": "a3f146c1-7fb2-478b-8565-60ee16f834ae"
      },
      "outputs": [
        {
          "output_type": "display_data",
          "data": {
            "text/plain": [
              "<Figure size 432x288 with 1 Axes>"
            ],
            "image/png": "[encoded data removed]"
          },
          "metadata": {
            "needs_background": "light"
          }
        }
      ],
      "source": [
        "plt.plot(history.history['accuracy'])\n",
        "plt.plot(history.history['val_accuracy'])\n",
        "plt.show()"
      ]
    },
    {
      "cell_type": "code",
      "execution_count": 11,
      "metadata": {
        "colab": {
          "base_uri": "https://localhost:8080/"
        },
        "id": "LLzflh-SE116",
        "outputId": "ac2c25c8-2c86-47d3-f661-f7df5e548d30"
      },
      "outputs": [
        {
          "output_type": "stream",
          "name": "stdout",
          "text": [
            "313/313 [==============================] - 1s 4ms/step - loss: 0.0250 - accuracy: 0.9921\n",
            "99.21\n"
          ]
        }
      ],
      "source": [
        "scores = model.evaluate(x_test, y_test)\n",
        "print(round(scores[1]*100, 4))"
      ]
    },
    {
      "cell_type": "code",
      "execution_count": 12,
      "metadata": {
        "colab": {
          "base_uri": "https://localhost:8080/",
          "height": 282
        },
        "id": "3GfoKYktFhkF",
        "outputId": "2e4e9287-ad12-4bd0-90b2-222067a9dc17"
      },
      "outputs": [
        {
          "output_type": "stream",
          "name": "stdout",
          "text": [
            "7\n"
          ]
        },
        {
          "output_type": "display_data",
          "data": {
            "text/plain": [
              "<Figure size 432x288 with 1 Axes>"
            ],
            "image/png": "[encoded data removed]"
          },
          "metadata": {
            "needs_background": "light"
          }
        }
      ],
      "source": [
        "pred = model.predict(x_test)\n",
        "n = 0\n",
        "print(np.argmax(pred[n]))\n",
        "plt.imshow(x_test[n].squeeze())\n",
        "plt.show()"
      ]
    }
  ]
}